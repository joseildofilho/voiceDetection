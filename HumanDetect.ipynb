{
 "cells": [
  {
   "cell_type": "markdown",
   "metadata": {},
   "source": [
    "# The sound of Silence"
   ]
  },
  {
   "cell_type": "markdown",
   "metadata": {},
   "source": [
    "\n",
    "### Dependencias\n",
    "* https://github.com/jiaaro/pydub ou pip3 install pydub\n",
    "* sudo apt install ffmpeg\n",
    "* sudo apt install python3-pip\n",
    "* pip3 install keras\n",
    "* pip3 install tensorflow\n",
    "* pip3 install pandas\n",
    "* pip3 install h5py"
   ]
  },
  {
   "cell_type": "markdown",
   "metadata": {},
   "source": [
    "# Note\n",
    "    This produre start using a module data, but the code get to messy and I start to code a small \"system\" for manage the research, thus the cell's that import data are kind of deprecated.\n",
    " "
   ]
  },
  {
   "cell_type": "code",
   "execution_count": 1,
   "metadata": {
    "collapsed": false,
    "scrolled": true
   },
   "outputs": [
    {
     "name": "stdout",
     "output_type": "stream",
     "text": [
      "Stored 'datasetMusan' (str)\n",
      "Stored 'datasetMusanBalanced6percente' (str)\n",
      "Stored 'datasetCodeTest' (str)\n"
     ]
    }
   ],
   "source": [
    "datasetMusan = \"/home/joseildo/codigos/voiceDetection/musan/\"\n",
    "datasetMusanBalanced6percente = \"/home/joseildo/codigos/voiceDetection/Bmusan\"\n",
    "datasetCodeTest = \"/home/joseildo/codigos/voiceDetection/dataCodeTest/\"\n",
    "%store datasetMusan\n",
    "%store datasetMusanBalanced6percente\n",
    "%store datasetCodeTest"
   ]
  },
  {
   "cell_type": "code",
   "execution_count": null,
   "metadata": {
    "collapsed": true,
    "scrolled": true
   },
   "outputs": [],
   "source": [
    "import data\n",
    "from keras.models import Sequential\n",
    "from keras.layers import Dense,Dropout\n",
    "\n",
    "## pastas\n",
    "audios = \"/home/joseildo/codigos/voiceDetection/musan/\"\n",
    "\n",
    "data.iterateOnFold(audios, shuffle = True)\n",
    "\n",
    "## modelo de teste\n",
    "modelo_um = Sequential()\n",
    "modelo_um.add(Dense(400, input_shape=(None,1600)))\n",
    "modelo_um.add(Dense(400,activation=\"sigmoid\"))\n",
    "modelo_um.add(Dense(200,activation=\"sigmoid\"))\n",
    "modelo_um.add(Dropout(0.2))\n",
    "modelo_um.add(Dense(100,activation=\"sigmoid\"))\n",
    "modelo_um.add(Dense(4,activation = 'softmax'))\n",
    "modelo_um.compile(loss='categorical_crossentropy',optimizer = 'sgd',metrics=['acc'])\n",
    "\n",
    "while(data.hasNext()):\n",
    "    x,y = data.next()\n",
    "    modelo_um.fit(x,y,nb_epoch = 1)\n",
    "    modelo_um.save_weights(audios+\"pounds_dense.h5\")\n",
    "    "
   ]
  },
  {
   "cell_type": "code",
   "execution_count": null,
   "metadata": {
    "collapsed": true,
    "scrolled": true
   },
   "outputs": [],
   "source": [
    "import data\n",
    "from keras.models import Sequential\n",
    "from keras.layers import Dense,Dropout\n",
    "from keras import metrics\n",
    "## pastas\n",
    "audios = \"/home/gtad/gapsSom/voiceDetection/musan\"\n",
    "\n",
    "data.iterateOnFold(audios, shuffle = True)\n",
    "\n",
    "## modelo de teste\n",
    "modelo_2 = Sequential()\n",
    "modelo_2.add(Dense(200,activation=\"sigmoid\", input_shape=(None,1600)))\n",
    "modelo_2.add(Dense(100,activation=\"sigmoid\"))\n",
    "modelo_2.add(Dense(4,activation = 'softmax'))\n",
    "modelo_2.compile(loss='categorical_crossentropy',optimizer = 'adam',metrics=[metrics.categorical_accuracy])\n",
    "modelo_2.save(\"model_three.h5\")\n",
    "\n",
    "while(data.hasNext()):\n",
    "    x,y = data.next()\n",
    "    modelo_2.fit(x,y,epochs = 1)\n",
    "    modelo_2.save_weights(\"/home/gtad/gapsSom/voiceDetection/pounds_conv.h5\")"
   ]
  },
  {
   "cell_type": "code",
   "execution_count": null,
   "metadata": {
    "collapsed": true,
    "scrolled": true
   },
   "outputs": [],
   "source": [
    "import data\n",
    "from keras.models import Sequential\n",
    "from keras.layers import Convolution1D,Dropout,Dense, MaxPooling1D, Activation\n",
    "from keras import metrics\n",
    "## pastas\n",
    "audios = \"/home/gtad/gapsSom/voiceDetection/musan/\"\n",
    "\n",
    "data.iterateOnFold(audios, shuffle = True)\n",
    "\n",
    "print(\"modelo\")\n",
    "## modelo de teste\n",
    "modelo_3 = Sequential()\n",
    "modelo_3.add(Convolution1D(100, 50, padding=\"same\", input_shape=(None,1600)))\n",
    "modelo_3.add(MaxPooling1D(50,padding=\"same\"))\n",
    "modelo_3.add(Activation(\"relu\"))\n",
    "modelo_3.add(Convolution1D(50, 5, padding=\"same\"))\n",
    "modelo_3.add(MaxPooling1D(50,padding=\"same\"))\n",
    "modelo_3.add(Activation(\"relu\"))\n",
    "modelo_3.add(Dense(50))\n",
    "modelo_3.add(Activation(\"tanh\"))\n",
    "modelo_3.add(Dropout(0.5))\n",
    "modelo_3.add(Dense(4))\n",
    "modelo_3.add(Activation(\"softmax\"))\n",
    "modelo_3.compile(loss='categorical_crossentropy',optimizer = 'sgd',metrics=[\"acc\"])\n",
    "modelo_3.save(\"cov_1.h5\")\n",
    "print(modelo_3.summary())\n",
    "print(\"compilado\")\n",
    "\n",
    "while(data.hasNext()):\n",
    "    x,y = data.next()\n",
    "    x = x.reshape(x.shape[1],1,x.shape[2])\n",
    "    y = y.reshape(y.shape[1],1,y.shape[2])    \n",
    "    modelo_3.fit(x,y,epochs = 1)\n",
    "    modelo_3.save_weights(\"/home/gtad/gapsSom/voiceDetection/pounds_conv.h5\")"
   ]
  },
  {
   "cell_type": "markdown",
   "metadata": {},
   "source": [
    "## Statistics\n",
    "### Todo-List\n",
    "* Produzir 20% de silencio\n",
    "* Produzir ruido\n",
    "* Gerar musicas misturadas com fala\n",
    "* Separar os silencio dos audios\n",
    "* Testes\n",
    "    * testar usando 10% de silencio mais 10% de musica sem voz contra os 20% de fala\n",
    "    * testar usando 10% de silencio mais 10% de musica com voz contra 20% de fala\n",
    "    * testar usando (20/3)% de silencio mais (20/3)% de musica sem voz mais (20/3)% ruido contra 20% de fala    \n",
    ">> fma contains voice"
   ]
  },
  {
   "cell_type": "code",
   "execution_count": 1,
   "metadata": {
    "collapsed": false,
    "scrolled": true
   },
   "outputs": [
    {
     "name": "stderr",
     "output_type": "stream",
     "text": [
      "Using TensorFlow backend.\n"
     ]
    },
    {
     "name": "stdout",
     "output_type": "stream",
     "text": [
      "[============================================================] 100.0% ...loading and running fold\n",
      "silence percentage: 0.06\n",
      "speech percentage: 0.51\n",
      "music percentage: 0.38\n",
      "noise percentage: 0.05\n"
     ]
    }
   ],
   "source": [
    "from keras.models import load_model\n",
    "import data\n",
    "\n",
    "audios = \"/home/gtad/gapsSom/voiceDetection/musan/\"\n",
    "data.iterateOnFold(audios)\n",
    "\n",
    "silence_quant = 0\n",
    "speech_quant = 0\n",
    "music_quant = 0\n",
    "noise_quant = 0\n",
    "\n",
    "while(data.hasNext()):\n",
    "    try:\n",
    "        x,y = data.next()\n",
    "        for i in y[0]:\n",
    "            if i[0] == 1:\n",
    "                silence_quant += 1\n",
    "            elif i[1] == 1:\n",
    "                speech_quant += 1\n",
    "            elif i[2] == 1:\n",
    "                music_quant += 1\n",
    "            elif i[3] == 1:\n",
    "                noise_quant += 1                \n",
    "    except:\n",
    "        pass\n",
    "count = silence_quant + speech_quant + music_quant + noise_quant\n",
    "print(\"\\nsilence percentage: %.2f\"%(silence_quant/count))\n",
    "print(\"speech percentage: %.2f\"%(speech_quant/count))\n",
    "print(\"music percentage: %.2f\"%(music_quant/count))\n",
    "print(\"noise percentage: %.2f\"%(noise_quant/count))"
   ]
  },
  {
   "cell_type": "code",
   "execution_count": 9,
   "metadata": {
    "collapsed": false,
    "scrolled": true
   },
   "outputs": [
    {
     "name": "stdout",
     "output_type": "stream",
     "text": [
      "music time: 153412.7663940001 noise time: 22414.717253999992 speech time: 217615.099637 \n",
      "\n",
      "music quant: 660 noise quant: 930 speech quant: 426\n",
      "total time: 393442.58328500006\n",
      "music percentage of seconds: 0.39\n",
      "noise percentage of seconds: 0.06\n",
      "speech percentage of seconds: 0.55\n",
      "music percentage of files: 0.33\n",
      "noise percentage of files: 0.46\n",
      "speech percentage of files: 0.21\n"
     ]
    }
   ],
   "source": [
    "from pydub import AudioSegment as AS\n",
    "from pydub import silence as dub\n",
    "from pydub.utils import mediainfo\n",
    "import os\n",
    "music = 0\n",
    "mC = 0\n",
    "noise = 0\n",
    "nC = 0\n",
    "speech = 0\n",
    "sC = 0\n",
    "\n",
    "os.chdir(\"/home/joseildo/codigos/voiceDetection/musan/\")\n",
    "for audio in os.listdir():\n",
    "    sound = mediainfo(audio)\n",
    "    if \"speech\" in audio:\n",
    "        speech += float(sound[\"duration\"])\n",
    "        sC += 1\n",
    "    elif \"music\" in audio:\n",
    "        music += float(sound[\"duration\"])\n",
    "        mC += 1\n",
    "    else:\n",
    "        noise += float(sound[\"duration\"])\n",
    "        nC += 1\n",
    "        \n",
    "time = music + noise + speech\n",
    "total = mC + nC + sC\n",
    "print(\"music time:\",music,\"noise time:\",noise,\"speech time:\",speech,\"\\n\")\n",
    "print(\"music quant:\",mC,\"noise quant:\",nC,\"speech quant:\",sC)\n",
    "print(\"total time:\",time)\n",
    "print(\"music percentage of seconds: %.2f\"%(music/time))\n",
    "print(\"noise percentage of seconds: %.2f\"%(noise/time))\n",
    "print(\"speech percentage of seconds: %.2f\"%(speech/time))\n",
    "print(\"music percentage of files: %.2f\"%(mC/total))\n",
    "print(\"noise percentage of files: %.2f\"%(nC/total))\n",
    "print(\"speech percentage of files: %.2f\"%(sC/total))"
   ]
  },
  {
   "cell_type": "markdown",
   "metadata": {},
   "source": [
    "### Slip Silence from sound"
   ]
  },
  {
   "cell_type": "code",
   "execution_count": null,
   "metadata": {
    "collapsed": false,
    "scrolled": true
   },
   "outputs": [],
   "source": [
    "from Folder import Folder\n",
    "from Data import Data\n",
    "\n",
    "folder = Folder(src =  datasetCodeTest)\n",
    "\n",
    "with Data(folder = folder) as data:\n",
    "    folder.regex = \"(?=music)\"\n",
    "    for audio in iter(data):\n",
    "        audio.splitSilence().appendSilences()\n",
    "        audio.splitSound().appendSounds()\n",
    "    audio.storeSounds(name=\"music\")\n",
    "    \n",
    "    folder.regex = \"(?=noise)\"\n",
    "    for audio in iter(data):\n",
    "        audio.splitSilence().appendSilences()\n",
    "        audio.splitSound().appendSounds()\n",
    "    audio.storeSounds(name=\"noise\")\n",
    "    \n",
    "    folder.regex = \"(?=speech)\"\n",
    "    for audio in iter(data):\n",
    "        audio.splitSilence().appendSilences()\n",
    "        audio.splitSound().appendSounds()\n",
    "    audio.storeSounds(name=\"speech\")\n",
    "    \n",
    "    audio.storeSilences(name=\"silence\")\n",
    "    "
   ]
  }
 ],
 "metadata": {
  "kernelspec": {
   "display_name": "Python 3",
   "language": "python",
   "name": "python3"
  },
  "language_info": {
   "codemirror_mode": {
    "name": "ipython",
    "version": 3
   },
   "file_extension": ".py",
   "mimetype": "text/x-python",
   "name": "python",
   "nbconvert_exporter": "python",
   "pygments_lexer": "ipython3",
   "version": "3.6.3"
  }
 },
 "nbformat": 4,
 "nbformat_minor": 2
}
