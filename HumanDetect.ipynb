{
 "cells": [
  {
   "cell_type": "markdown",
   "metadata": {},
   "source": [
    "# The sound of Silence"
   ]
  },
  {
   "cell_type": "markdown",
   "metadata": {},
   "source": [
    "\n",
    "### Dependencias\n",
    "* https://github.com/jiaaro/pydub ou pip3 install pydub\n",
    "* sudo apt install ffmpeg\n",
    "* sudo apt install python3-pip\n",
    "* pip3 install keras\n",
    "* pip3 install tensorflow\n",
    "* pip3 install pandas\n",
    "* pip3 install h5py"
   ]
  },
  {
   "cell_type": "markdown",
   "metadata": {},
   "source": [
    "# Note\n",
    "    This produre start using a module data, but the code get to messy and I start to code a small \"system\" for manage the research, thus the cell's that import data are kind of deprecated.\n",
    " "
   ]
  },
  {
   "cell_type": "code",
   "execution_count": 1,
   "metadata": {
    "collapsed": false
   },
   "outputs": [
    {
     "name": "stderr",
     "output_type": "stream",
     "text": [
      "Using TensorFlow backend.\n",
      "/usr/lib/python3.6/importlib/_bootstrap.py:219: RuntimeWarning: compiletime version 3.5 of module 'tensorflow.python.framework.fast_tensor_util' does not match runtime version 3.6\n",
      "  return f(*args, **kwds)\n"
     ]
    }
   ],
   "source": [
    "from keras.models import Sequential\n",
    "from keras.layers import Convolution1D,Dropout,Dense, MaxPooling1D, Activation,Reshape\n",
    "from keras import metrics"
   ]
  },
  {
   "cell_type": "code",
   "execution_count": 3,
   "metadata": {
    "collapsed": false,
    "scrolled": true
   },
   "outputs": [
    {
     "name": "stdout",
     "output_type": "stream",
     "text": [
      "Stored 'datasetMusan' (str)\n",
      "Stored 'datasetMusanSepareted' (str)\n",
      "Stored 'datasetCodeTest' (str)\n"
     ]
    }
   ],
   "source": [
    "datasetMusan = \"/home/joseildo/codigos/voiceDetection/musan/\"\n",
    "datasetMusanSepareted = \"/media/joseildo/DATA/Bmusan\"\n",
    "datasetCodeTest = \"/home/joseildo/codigos/voiceDetection/dataCodeTest/\"\n",
    "%store datasetMusan\n",
    "%store datasetMusanSepareted\n",
    "%store datasetCodeTest"
   ]
  },
  {
   "cell_type": "code",
   "execution_count": 4,
   "metadata": {
    "collapsed": true
   },
   "outputs": [],
   "source": [
    "modelo_2 = Sequential()\n",
    "modelo_2.add(Dense(1600,activation=\"sigmoid\", input_shape=(None,1600)))\n",
    "modelo_2.add(Dense(800,activation=\"sigmoid\"))\n",
    "modelo_2.add(Dropout(0.2))\n",
    "modelo_2.add(Dense(100,activation=\"relu\"))\n",
    "modelo_2.add(Dense(2,activation = 'softmax'))\n",
    "modelo_2.compile(loss='categorical_crossentropy',optimizer = 'sgd',metrics=[metrics.categorical_accuracy])\n"
   ]
  },
  {
   "cell_type": "code",
   "execution_count": 5,
   "metadata": {
    "collapsed": false
   },
   "outputs": [],
   "source": [
    "modelo_3 = Sequential()\n",
    "modelo_3.add(Convolution1D(1600, 100, padding=\"same\", input_shape=(None,1600)))\n",
    "modelo_3.add(MaxPooling1D(50,padding=\"same\"))\n",
    "modelo_3.add(Activation(\"relu\"))\n",
    "modelo_3.add(Convolution1D(400, 40, padding=\"same\"))\n",
    "modelo_3.add(MaxPooling1D(50,padding=\"same\"))\n",
    "modelo_3.add(Activation(\"relu\"))\n",
    "modelo_3.add(Dense(100))\n",
    "modelo_3.add(Activation(\"tanh\"))\n",
    "modelo_3.add(Dropout(0.5))\n",
    "modelo_3.add(Dense(2))\n",
    "modelo_3.add(Activation(\"softmax\"))\n",
    "modelo_3.compile(loss='categorical_crossentropy',optimizer = 'sgd',metrics=[\"acc\"])"
   ]
  },
  {
   "cell_type": "code",
   "execution_count": 12,
   "metadata": {
    "collapsed": true
   },
   "outputs": [
    {
     "name": "stdout",
     "output_type": "stream",
     "text": [
      "quantidade de silencio: 119928 quantidade de voz 57309\n",
      "(1, 100000, 1600)\n",
      "Epoch 1/10\n",
      "1/1 [==============================] - 49s - loss: 1.0286 - categorical_accuracy: 0.5001\n",
      "Epoch 2/10\n",
      "1/1 [==============================] - 42s - loss: 0.7335 - categorical_accuracy: 0.5016\n",
      "Epoch 3/10\n",
      "1/1 [==============================] - 40s - loss: 0.7282 - categorical_accuracy: 0.4969\n",
      "Epoch 4/10\n",
      "1/1 [==============================] - 40s - loss: 0.7271 - categorical_accuracy: 0.4968\n",
      "Epoch 5/10\n",
      "1/1 [==============================] - 40s - loss: 0.7264 - categorical_accuracy: 0.4983\n",
      "Epoch 6/10\n",
      "1/1 [==============================] - 40s - loss: 0.7254 - categorical_accuracy: 0.5002\n",
      "Epoch 7/10\n",
      "1/1 [==============================] - 40s - loss: 0.7253 - categorical_accuracy: 0.5001\n",
      "Epoch 8/10\n",
      "1/1 [==============================] - 40s - loss: 0.7257 - categorical_accuracy: 0.4972\n",
      "Epoch 9/10\n",
      "1/1 [==============================] - 40s - loss: 0.7242 - categorical_accuracy: 0.4998\n",
      "Epoch 10/10\n",
      "1/1 [==============================] - 40s - loss: 0.7250 - categorical_accuracy: 0.5007\n",
      "1/1 [==============================] - 10s\n",
      "[0.65908843278884888, 0.65183478593826294]\n",
      "1/1 [==============================] - 21s\n",
      "[0.73986673355102539, 0.31953337788581848]\n"
     ]
    }
   ],
   "source": [
    "from Folder import Folder\n",
    "\n",
    "from keras import metrics\n",
    "from pydub import AudioSegment\n",
    "import numpy as np\n",
    "from keras.utils import np_utils\n",
    "## pastas\n",
    "pasta = Folder(src = datasetMusanSepareted)\n",
    "\n",
    "pasta.regex = \"(?=silence)\"\n",
    "silencio = pasta.sliceF(0.52).loadLowerSlicedToMemory()\n",
    "pasta.regex = \"(?=speech)\"\n",
    "voz = pasta.sliceF(0.035).loadLowerSlicedToMemory()\n",
    "\n",
    "silencioData = []\n",
    "silencioLabel = []\n",
    "\n",
    "tempo = 100\n",
    "dataSize = 50000\n",
    "\n",
    "\n",
    "for i in silencio:\n",
    "    for j in range(0,len(i)-tempo,tempo):\n",
    "        silencioData.append(i[j:j+tempo].get_array_of_samples())\n",
    "        silencioLabel += \"0\"\n",
    "\n",
    "vozData = []\n",
    "vozLabel = []\n",
    "\n",
    "for i in voz:\n",
    "    for j in range(0,len(i)-tempo,tempo):\n",
    "        vozData.append(i[j:j+tempo].get_array_of_samples())\n",
    "        vozLabel += \"1\"   \n",
    "\n",
    "data, label = silencioData[:dataSize] + vozData[:dataSize], silencioLabel[:dataSize] + vozLabel[:dataSize]\n",
    "\n",
    "print(\"quantidade de silencio:\",len(silencioData),\"quantidade de voz\",len(vozData))\n",
    "\n",
    "#silencioData,silencioLabel,vozData,vozLabel = [],[],[],[]\n",
    "\n",
    "## modelo de teste\n",
    "\n",
    "data, label = np.asarray([data]),np.asarray([np_utils.to_categorical(label,2)])\n",
    "\n",
    "print(data.shape)\n",
    "\n",
    "modelo_2.fit(data,label,shuffle=True)\n",
    "\n",
    "print(modelo_2.evaluate(np.asarray([vozData]),np.asarray([np_utils.to_categorical(vozLabel,2)])))\n",
    "print(modelo_2.evaluate(np.asarray([silencioData]),np.asarray([np_utils.to_categorical(silencioLabel,2)])))\n"
   ]
  },
  {
   "cell_type": "code",
   "execution_count": null,
   "metadata": {
    "collapsed": false,
    "scrolled": true
   },
   "outputs": [],
   "source": [
    "from Folder import Folder\n",
    "\n",
    "from keras import metrics\n",
    "from pydub import AudioSegment\n",
    "import numpy as np\n",
    "from keras.utils import np_utils\n",
    "## pastas\n",
    "pasta = Folder(src = datasetCodeTest)\n",
    "\n",
    "pasta.regex = \"(?=silence)\"\n",
    "silencio = pasta.sliceF(1).loadLowerSlicedToMemory()\n",
    "pasta.regex = \"(?=speech)\"\n",
    "voz = pasta.sliceF(1).loadLowerSlicedToMemory()\n",
    "\n",
    "silencioData = []\n",
    "silencioLabel = []\n",
    "\n",
    "tempo = 100\n",
    "dataSize = 50000\n",
    "\n",
    "\n",
    "for i in silencio:\n",
    "    for j in range(0,len(i)-2*tempo,tempo):\n",
    "        silencioData.append(i[j:j+tempo].get_array_of_samples())\n",
    "        silencioLabel += \"0\"\n",
    "\n",
    "vozData = []\n",
    "vozLabel = []\n",
    "\n",
    "for i in voz:\n",
    "    for j in range(0,len(i)-2*tempo,tempo):\n",
    "        vozData.append(i[j:j+tempo].get_array_of_samples())\n",
    "        vozLabel += \"1\"   \n",
    "\n",
    "data, label = silencioData[:dataSize] + vozData[:dataSize], silencioLabel[:dataSize] + vozLabel[:dataSize]\n",
    "\n",
    "print(\"quantidade de silencio:\",len(silencioData),\"quantidade de voz\",len(vozData))\n",
    "\n",
    "#silencioData,silencioLabel,vozData,vozLabel = [],[],[],[]\n",
    "\n",
    "## modelo de teste\n",
    "\n",
    "data, label = np.asarray([data]),np.asarray([np_utils.to_categorical(label,2)])\n",
    "\n",
    "data,label = data.reshape(data.shape[1],1,data.shape[2]), label.reshape(label.shape[1],1,label.shape[2])\n",
    "\n",
    "print(data.shape)\n",
    "print(label.shape)\n",
    "\n",
    "modelo_3.fit(data,label,shuffle=True)\n",
    "\n",
    "print(modelo_3.evaluate(np.asarray(vozData),np.asarray(np_utils.to_categorical(vozLabel,2))))\n",
    "print(modelo_3.evaluate(np.asarray(silencioData),np.asarray(np_utils.to_categorical(silencioLabel,2))))\n"
   ]
  },
  {
   "cell_type": "markdown",
   "metadata": {},
   "source": [
    "## Statistics\n",
    "### Todo-List\n",
    "* Produzir 20% de silencio\n",
    "* Produzir ruido\n",
    "* Gerar musicas misturadas com fala\n",
    "* Separar os silencio dos audios\n",
    "* Testes\n",
    "    * testar usando 10% de silencio mais 10% de musica sem voz contra os 20% de fala\n",
    "    * testar usando 10% de silencio mais 10% de musica com voz contra 20% de fala\n",
    "    * testar usando (20/3)% de silencio mais (20/3)% de musica sem voz mais (20/3)% ruido contra 20% de fala    \n",
    ">> fma contains voice"
   ]
  },
  {
   "cell_type": "code",
   "execution_count": 1,
   "metadata": {
    "collapsed": false,
    "scrolled": true
   },
   "outputs": [
    {
     "name": "stderr",
     "output_type": "stream",
     "text": [
      "Using TensorFlow backend.\n"
     ]
    },
    {
     "name": "stdout",
     "output_type": "stream",
     "text": [
      "[============================================================] 100.0% ...loading and running fold\n",
      "silence percentage: 0.06\n",
      "speech percentage: 0.51\n",
      "music percentage: 0.38\n",
      "noise percentage: 0.05\n"
     ]
    }
   ],
   "source": [
    "from keras.models import load_model\n",
    "import data\n",
    "\n",
    "audios = \"/home/gtad/gapsSom/voiceDetection/musan/\"\n",
    "data.iterateOnFold(audios)\n",
    "\n",
    "silence_quant = 0\n",
    "speech_quant = 0\n",
    "music_quant = 0\n",
    "noise_quant = 0\n",
    "\n",
    "while(data.hasNext()):\n",
    "    try:\n",
    "        x,y = data.next()\n",
    "        for i in y[0]:\n",
    "            if i[0] == 1:\n",
    "                silence_quant += 1\n",
    "            elif i[1] == 1:\n",
    "                speech_quant += 1\n",
    "            elif i[2] == 1:\n",
    "                music_quant += 1\n",
    "            elif i[3] == 1:\n",
    "                noise_quant += 1                \n",
    "    except:\n",
    "        pass\n",
    "count = silence_quant + speech_quant + music_quant + noise_quant\n",
    "print(\"\\nsilence percentage: %.2f\"%(silence_quant/count))\n",
    "print(\"speech percentage: %.2f\"%(speech_quant/count))\n",
    "print(\"music percentage: %.2f\"%(music_quant/count))\n",
    "print(\"noise percentage: %.2f\"%(noise_quant/count))"
   ]
  },
  {
   "cell_type": "code",
   "execution_count": 9,
   "metadata": {
    "collapsed": false,
    "scrolled": true
   },
   "outputs": [
    {
     "name": "stdout",
     "output_type": "stream",
     "text": [
      "music time: 153412.7663940001 noise time: 22414.717253999992 speech time: 217615.099637 \n",
      "\n",
      "music quant: 660 noise quant: 930 speech quant: 426\n",
      "total time: 393442.58328500006\n",
      "music percentage of seconds: 0.39\n",
      "noise percentage of seconds: 0.06\n",
      "speech percentage of seconds: 0.55\n",
      "music percentage of files: 0.33\n",
      "noise percentage of files: 0.46\n",
      "speech percentage of files: 0.21\n"
     ]
    }
   ],
   "source": [
    "from pydub import AudioSegment as AS\n",
    "from pydub import silence as dub\n",
    "from pydub.utils import mediainfo\n",
    "import os\n",
    "music = 0\n",
    "mC = 0\n",
    "noise = 0\n",
    "nC = 0\n",
    "speech = 0\n",
    "sC = 0\n",
    "\n",
    "os.chdir(\"/home/joseildo/codigos/voiceDetection/musan/\")\n",
    "for audio in os.listdir():\n",
    "    sound = mediainfo(audio)\n",
    "    if \"speech\" in audio:\n",
    "        speech += float(sound[\"duration\"])\n",
    "        sC += 1\n",
    "    elif \"music\" in audio:\n",
    "        music += float(sound[\"duration\"])\n",
    "        mC += 1\n",
    "    else:\n",
    "        noise += float(sound[\"duration\"])\n",
    "        nC += 1\n",
    "        \n",
    "time = music + noise + speech\n",
    "total = mC + nC + sC\n",
    "print(\"music time:\",music,\"noise time:\",noise,\"speech time:\",speech,\"\\n\")\n",
    "print(\"music quant:\",mC,\"noise quant:\",nC,\"speech quant:\",sC)\n",
    "print(\"total time:\",time)\n",
    "print(\"music percentage of seconds: %.2f\"%(music/time))\n",
    "print(\"noise percentage of seconds: %.2f\"%(noise/time))\n",
    "print(\"speech percentage of seconds: %.2f\"%(speech/time))\n",
    "print(\"music percentage of files: %.2f\"%(mC/total))\n",
    "print(\"noise percentage of files: %.2f\"%(nC/total))\n",
    "print(\"speech percentage of files: %.2f\"%(sC/total))"
   ]
  },
  {
   "cell_type": "markdown",
   "metadata": {},
   "source": [
    "### Slip Silence from sound"
   ]
  },
  {
   "cell_type": "code",
   "execution_count": 3,
   "metadata": {
    "collapsed": false,
    "scrolled": true
   },
   "outputs": [
    {
     "name": "stdout",
     "output_type": "stream",
     "text": [
      "660/660    loading\n",
      "930/930    loading\n",
      "426/426    loading\n",
      "do nothing\n"
     ]
    }
   ],
   "source": [
    "from Folder import Folder\n",
    "from Data import Data\n",
    "\n",
    "folder = Folder(src =  \"/media/joseildo/DATA/Linux/musan\",output=\"/home/joseildo/codigos/voiceDetection/Bmusan/\")\n",
    "i = 0\n",
    "with Data(folder = folder,thresh = -42) as data:\n",
    "    folder.regex = \"(?=music)\"\n",
    "    for audio in iter(data):\n",
    "        audio.splitSilence().appendSilences()\n",
    "        audio.splitSound().appendSounds()\n",
    "        audio.storeSounds(name=audio.audiosName)\n",
    "        audio.storeSilences(name=\"silence-\"+str(i))\n",
    "        i += 1\n",
    "        \n",
    "    folder.regex = \"(?=noise)\"\n",
    "    for audio in iter(data):\n",
    "        audio.splitSilence().appendSilences()\n",
    "        audio.splitSound().appendSounds()\n",
    "        audio.storeSounds(name=audio.audiosName)\n",
    "        audio.storeSilences(name=\"silence-\"+str(i))\n",
    "        i += 1\n",
    "        \n",
    "    folder.regex = \"(?=speech)\"\n",
    "    for audio in iter(data):\n",
    "        audio.splitSilence().appendSilences()\n",
    "        audio.splitSound().appendSounds()\n",
    "        audio.storeSounds(name=audio.audiosName)\n",
    "        audio.storeSilences(name=\"silence-\"+str(i))\n",
    "        i += 1\n",
    "    "
   ]
  },
  {
   "cell_type": "code",
   "execution_count": null,
   "metadata": {
    "collapsed": false
   },
   "outputs": [],
   "source": [
    "import time\n",
    "for i in range(100):\n",
    "    time.sleep(0.5)\n",
    "    print(str(\"\\r\"),i,end=\"\")"
   ]
  }
 ],
 "metadata": {
  "kernelspec": {
   "display_name": "Python 3",
   "language": "python",
   "name": "python3"
  },
  "language_info": {
   "codemirror_mode": {
    "name": "ipython",
    "version": 3
   },
   "file_extension": ".py",
   "mimetype": "text/x-python",
   "name": "python",
   "nbconvert_exporter": "python",
   "pygments_lexer": "ipython3",
   "version": "3.6.3"
  }
 },
 "nbformat": 4,
 "nbformat_minor": 2
}
