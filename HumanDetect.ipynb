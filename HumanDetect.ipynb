{
 "cells": [
  {
   "cell_type": "markdown",
   "metadata": {},
   "source": [
    "# The sound of Silence"
   ]
  },
  {
   "cell_type": "markdown",
   "metadata": {},
   "source": [
    "\n",
    "### Dependencias\n",
    "* https://github.com/jiaaro/pydub ou pip3 install pydub\n",
    "* sudo apt install ffmpeg\n",
    "* sudo apt install python3-pip\n",
    "* pip3 install keras\n",
    "* pip3 install tensorflow\n",
    "* pip3 install pandas\n",
    "* pip3 install h5py"
   ]
  },
  {
   "cell_type": "markdown",
   "metadata": {},
   "source": [
    "## Todo List\n",
    "* É nessario resolver o problema para diversas faixas de onda de audio - Fixed\n",
    "##\n",
    "* modelo_um:\n",
    "    O modelo foi treinado com apenas 5% do conjunto selecionado aleatoriamente, o cojunto de treinamento foi bastante resumido por limitação de hardware.\n",
    "    Como esperado os resultados não foram nada satisfatorios, visto que o modelo consegue apenas classificar os as amostras como do tipo 1\n",
    "* fazer um backtraking melhor dos erros!\n",
    " "
   ]
  },
  {
   "cell_type": "code",
   "execution_count": null,
   "metadata": {
    "collapsed": true,
    "scrolled": true
   },
   "outputs": [],
   "source": [
    "import data\n",
    "from keras.models import Sequential\n",
    "from keras.layers import Dense,Dropout\n",
    "\n",
    "## pastas\n",
    "audios = \"/home/joseildo/codigos/voiceDetection/musan/\"\n",
    "\n",
    "data.iterateOnFold(audios, shuffle = True)\n",
    "\n",
    "## modelo de teste\n",
    "modelo_um = Sequential()\n",
    "modelo_um.add(Dense(400, input_shape=(None,1600)))\n",
    "modelo_um.add(Dense(400,activation=\"sigmoid\"))\n",
    "modelo_um.add(Dense(200,activation=\"sigmoid\"))\n",
    "modelo_um.add(Dropout(0.2))\n",
    "modelo_um.add(Dense(100,activation=\"sigmoid\"))\n",
    "modelo_um.add(Dense(4,activation = 'softmax'))\n",
    "modelo_um.compile(loss='categorical_crossentropy',optimizer = 'sgd',metrics=['acc'])\n",
    "\n",
    "while(data.hasNext()):\n",
    "    x,y = data.next()\n",
    "    modelo_um.fit(x,y,nb_epoch = 1)\n",
    "    modelo_um.save_weights(audios+\"pounds_dense.h5\")"
   ]
  },
  {
   "cell_type": "code",
   "execution_count": null,
   "metadata": {
    "collapsed": true,
    "scrolled": true
   },
   "outputs": [],
   "source": [
    "import data\n",
    "from keras.models import Sequential\n",
    "from keras.layers import Dense,Dropout\n",
    "from keras import metrics\n",
    "## pastas\n",
    "audios = \"/home/gtad/gapsSom/voiceDetection/musan\"\n",
    "\n",
    "data.iterateOnFold(audios, shuffle = True)\n",
    "\n",
    "## modelo de teste\n",
    "modelo_2 = Sequential()\n",
    "modelo_2.add(Dense(200,activation=\"sigmoid\", input_shape=(None,1600)))\n",
    "modelo_2.add(Dense(100,activation=\"sigmoid\"))\n",
    "modelo_2.add(Dense(4,activation = 'softmax'))\n",
    "modelo_2.compile(loss='categorical_crossentropy',optimizer = 'adam',metrics=[metrics.categorical_accuracy])\n",
    "modelo_2.save(\"model_three.h5\")\n",
    "\n",
    "while(data.hasNext()):\n",
    "    x,y = data.next()\n",
    "    modelo_2.fit(x,y,epochs = 1)\n",
    "    modelo_2.save_weights(\"/home/gtad/gapsSom/voiceDetection/pounds_conv.h5\")"
   ]
  },
  {
   "cell_type": "code",
   "execution_count": null,
   "metadata": {
    "scrolled": true
   },
   "outputs": [],
   "source": [
    "import data\n",
    "from keras.models import Sequential\n",
    "from keras.layers import Convolution1D,Dropout,Dense, MaxPooling1D, Activation\n",
    "from keras import metrics\n",
    "## pastas\n",
    "audios = \"/home/gtad/gapsSom/voiceDetection/musan/\"\n",
    "\n",
    "data.iterateOnFold(audios, shuffle = True)\n",
    "\n",
    "print(\"modelo\")\n",
    "## modelo de teste\n",
    "modelo_3 = Sequential()\n",
    "modelo_3.add(Convolution1D(100, 50, padding=\"same\", input_shape=(None,1600)))\n",
    "modelo_3.add(MaxPooling1D(50,padding=\"same\"))\n",
    "modelo_3.add(Activation(\"relu\"))\n",
    "modelo_3.add(Convolution1D(50, 5, padding=\"same\"))\n",
    "modelo_3.add(MaxPooling1D(50,padding=\"same\"))\n",
    "modelo_3.add(Activation(\"relu\"))\n",
    "modelo_3.add(Dense(50))\n",
    "modelo_3.add(Activation(\"tanh\"))\n",
    "modelo_3.add(Dropout(0.5))\n",
    "modelo_3.add(Dense(4))\n",
    "modelo_3.add(Activation(\"softmax\"))\n",
    "modelo_3.compile(loss='categorical_crossentropy',optimizer = 'sgd',metrics=[\"acc\"])\n",
    "print(modelo_3.summary())\n",
    "print(\"compilado\")\n",
    "\n",
    "while(data.hasNext()):\n",
    "    x,y = data.next()\n",
    "    x = x.reshape(x.shape[1],1,x.shape[2])\n",
    "    y = y.reshape(y.shape[1],1,y.shape[2])    \n",
    "    modelo_3.fit(x,y,epochs = 1)\n",
    "    modelo_3.save_weights(\"/home/gtad/gapsSom/voiceDetection/pounds_conv.h5\")"
   ]
  },
  {
   "cell_type": "code",
   "execution_count": null,
   "metadata": {
    "collapsed": true
   },
   "outputs": [],
   "source": [
    "import data\n",
    "from keras.models import Sequential\n",
    "from keras.layers import LocallyConnected1D,Dropout,Dense, MaxPooling1D, Activation\n",
    "from keras import metrics\n",
    "## pastas\n",
    "audios = \"/home/joseildo/codigos/voiceDetection/musan/\"\n",
    "\n",
    "data.iterateOnFold(audios, shuffle = True)\n",
    "\n",
    "## modelo de teste\n",
    "modelo_3 = Sequential()\n",
    "modelo_3.add(LocallyConnected1D(100, 100, input_shape=(None,1600)))\n",
    "modelo_3.add(Activation(\"relu\"))\n",
    "modelo_3.add(Dense(50,activation=\"sigmoid\"))\n",
    "modelo_3.add(Dense(4,activation = 'softmax'))\n",
    "modelo_3.compile(loss='categorical_crossentropy',optimizer = 'adam',metrics=[metrics.categorical_accuracy])\n",
    "#modelo_3.save(\"model_three.h5\")\n",
    "\n",
    "\n",
    "while(data.hasNext()):\n",
    "    x,y = data.next()\n",
    "    print(x.shape,y.shape)\n",
    "    modelo_3.fit(x,y)\n",
    "    modelo_3.save_weights(\"/home/joseildo/SpeechDetection/pyHumanDetect/locally_conv.h5\")"
   ]
  },
  {
   "cell_type": "code",
   "execution_count": null,
   "metadata": {
    "collapsed": true
   },
   "outputs": [],
   "source": [
    "from keras.models import load_model\n",
    "import data\n",
    "import os\n",
    "model = load_model(os.getcwd()+\"/model_one.h5\")\n",
    "model.load_weights(os.getcwd()+\"/pounds.h5\")\n",
    "data.loadAudio(os.getcwd()+\"/teste/2001.wav\")\n",
    "data.generateData()\n",
    "x, y = data.prepareData()\n",
    "result = model.predict(x)\n"
   ]
  },
  {
   "cell_type": "code",
   "execution_count": null,
   "metadata": {
    "collapsed": true
   },
   "outputs": [],
   "source": []
  }
 ],
 "metadata": {
  "kernelspec": {
   "display_name": "Python 3",
   "language": "python",
   "name": "python3"
  },
  "language_info": {
   "codemirror_mode": {
    "name": "ipython",
    "version": 3
   },
   "file_extension": ".py",
   "mimetype": "text/x-python",
   "name": "python",
   "nbconvert_exporter": "python",
   "pygments_lexer": "ipython3",
   "version": "3.6.1"
  }
 },
 "nbformat": 4,
 "nbformat_minor": 2
}
